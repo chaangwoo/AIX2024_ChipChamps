{
 "cells": [
  {
   "cell_type": "code",
   "execution_count": 10,
   "metadata": {},
   "outputs": [],
   "source": [
    "import numpy as np\n",
    "\n",
    "# Function to read numbers from a text file\n",
    "def read_numbers_from_file(file_path):\n",
    "    with open(file_path, 'r') as file:\n",
    "        numbers = [float(line.strip()) for line in file]\n",
    "    return numbers\n",
    "\n",
    "# Function to calculate mean squared error\n",
    "def calculate_mse(original_values, approx_values):\n",
    "    squared_errors = [(orig - approx) ** 2 for orig, approx in zip(original_values, approx_values)]\n",
    "    mse = np.mean(squared_errors)\n",
    "    return mse\n",
    "\n",
    "# Function to clip fixed-point numbers to 8-bit two's complement range\n",
    "def clip_to_8_bit_twos_complement(value):\n",
    "    return max(-128, min(127, round(value)))"
   ]
  },
  {
   "cell_type": "code",
   "execution_count": 11,
   "metadata": {},
   "outputs": [],
   "source": [
    "def find_best_n(file_path):\n",
    "    # Read floating-point numbers from the text file\n",
    "    floating_numbers = read_numbers_from_file(file_path)\n",
    "\n",
    "    min_mse = float('inf')\n",
    "    best_n = None\n",
    "\n",
    "    print(\"n\\tMSE\")\n",
    "    print(\"-\" * 15)\n",
    "\n",
    "    # Iterate over the range of n (1 to 11)\n",
    "    for n in range(1, 12):\n",
    "        # Convert floating-point numbers to fixed-point numbers with clipping\n",
    "        fixed_point_numbers = [clip_to_8_bit_twos_complement(num * (2 ** n)) for num in floating_numbers]\n",
    "        \n",
    "        # Convert fixed-point numbers back to floating-point numbers\n",
    "        approx_floating_numbers = [num / (2 ** n) for num in fixed_point_numbers]\n",
    "        \n",
    "        # Calculate mean squared error\n",
    "        mse = calculate_mse(floating_numbers, approx_floating_numbers)\n",
    "        \n",
    "        # Print the MSE for the current value of n\n",
    "        print(f\"{n}\\t{mse}\")\n",
    "        \n",
    "        # Update the minimum MSE and the corresponding n\n",
    "        if mse < min_mse:\n",
    "            min_mse = mse\n",
    "            best_n = n\n",
    "\n",
    "    print(\"-\" * 15)\n",
    "    print(\"Best n:\", best_n)\n",
    "    print(\"Minimum Mean Squared Error:\", min_mse)\n",
    "    return"
   ]
  },
  {
   "cell_type": "code",
   "execution_count": 12,
   "metadata": {},
   "outputs": [
    {
     "name": "stdout",
     "output_type": "stream",
     "text": [
      "n\tMSE\n",
      "---------------\n",
      "1\t0.020249063378814817\n",
      "2\t0.005475197638074075\n",
      "3\t0.001291254929740741\n",
      "4\t0.00031606598298148124\n",
      "5\t0.03216318751075926\n",
      "6\t0.342136685955493\n",
      "7\t0.9197225107800735\n",
      "8\t1.4905853743664992\n",
      "9\t1.8911889604305907\n",
      "10\t2.1292058854246\n",
      "11\t2.2588164790902883\n",
      "---------------\n",
      "Best n: 4\n",
      "Minimum Mean Squared Error: 0.00031606598298148124\n"
     ]
    }
   ],
   "source": [
    "find_best_n('./weights/weights_of_layer_00.txt')"
   ]
  },
  {
   "cell_type": "code",
   "execution_count": 13,
   "metadata": {},
   "outputs": [
    {
     "name": "stdout",
     "output_type": "stream",
     "text": [
      "n\tMSE\n",
      "---------------\n",
      "1\t0.0053418179469375\n",
      "2\t0.0032571218748888883\n",
      "3\t0.0011783561413819445\n",
      "4\t0.0003251679360868056\n",
      "5\t7.931976442881944e-05\n",
      "6\t2.0387042125217017e-05\n",
      "7\t5.122806522732205e-06\n",
      "8\t5.880829043009441e-06\n",
      "9\t0.00012878167038508776\n",
      "10\t0.00075991095882007\n",
      "11\t0.0020740556610426824\n",
      "---------------\n",
      "Best n: 7\n",
      "Minimum Mean Squared Error: 5.122806522732205e-06\n"
     ]
    }
   ],
   "source": [
    "find_best_n('./weights/weights_of_layer_02.txt')"
   ]
  },
  {
   "cell_type": "code",
   "execution_count": 14,
   "metadata": {},
   "outputs": [
    {
     "name": "stdout",
     "output_type": "stream",
     "text": [
      "n\tMSE\n",
      "---------------\n",
      "1\t0.005018729371603949\n",
      "2\t0.003303973864876519\n",
      "3\t0.0012287725980579427\n",
      "4\t0.00032291538641514755\n",
      "5\t8.128621228862847e-05\n",
      "6\t2.02923463218316e-05\n",
      "7\t5.150542792304145e-06\n",
      "8\t5.534710357543946e-06\n",
      "9\t6.686519772803496e-05\n",
      "10\t0.000475360317938815\n",
      "11\t0.001556487297277441\n",
      "---------------\n",
      "Best n: 7\n",
      "Minimum Mean Squared Error: 5.150542792304145e-06\n"
     ]
    }
   ],
   "source": [
    "find_best_n('./weights/weights_of_layer_04.txt')"
   ]
  },
  {
   "cell_type": "code",
   "execution_count": 15,
   "metadata": {},
   "outputs": [
    {
     "name": "stdout",
     "output_type": "stream",
     "text": [
      "n\tMSE\n",
      "---------------\n",
      "1\t0.002833443143696737\n",
      "2\t0.0023974221408213027\n",
      "3\t0.0011648363728634034\n",
      "4\t0.00032466365693458387\n",
      "5\t8.11899088334554e-05\n",
      "6\t2.0333058527262372e-05\n",
      "7\t5.092662345520019e-06\n",
      "8\t1.4459311410632666e-06\n",
      "9\t7.189700872849782e-06\n",
      "10\t7.667002325867748e-05\n",
      "11\t0.0004431181155448421\n",
      "---------------\n",
      "Best n: 8\n",
      "Minimum Mean Squared Error: 1.4459311410632666e-06\n"
     ]
    }
   ],
   "source": [
    "find_best_n('./weights/weights_of_layer_06.txt')"
   ]
  },
  {
   "cell_type": "code",
   "execution_count": 16,
   "metadata": {},
   "outputs": [
    {
     "name": "stdout",
     "output_type": "stream",
     "text": [
      "n\tMSE\n",
      "---------------\n",
      "1\t0.0037585966755439896\n",
      "2\t0.002824120231723461\n",
      "3\t0.0012139388488024531\n",
      "4\t0.00032473698943423474\n",
      "5\t8.16111313392775e-05\n",
      "6\t2.036063299146525e-05\n",
      "7\t5.0841733240475115e-06\n",
      "8\t3.7536541644126053e-06\n",
      "9\t3.761853720397319e-05\n",
      "10\t0.0002571724126654009\n",
      "11\t0.0009155873818542347\n",
      "---------------\n",
      "Best n: 8\n",
      "Minimum Mean Squared Error: 3.7536541644126053e-06\n"
     ]
    }
   ],
   "source": [
    "find_best_n('./weights/weights_of_layer_08.txt')"
   ]
  },
  {
   "cell_type": "code",
   "execution_count": 17,
   "metadata": {},
   "outputs": [
    {
     "name": "stdout",
     "output_type": "stream",
     "text": [
      "n\tMSE\n",
      "---------------\n",
      "1\t0.00016604178594474537\n",
      "2\t0.0001659770513798582\n",
      "3\t0.0001639022943336885\n",
      "4\t0.0001441437009863511\n",
      "5\t7.368801998023734e-05\n",
      "6\t2.0337817962877063e-05\n",
      "7\t5.081630755708058e-06\n",
      "8\t1.2709007255687718e-06\n",
      "9\t3.186488063339788e-07\n",
      "10\t8.411638441353045e-08\n",
      "11\t2.6489191001811203e-07\n",
      "---------------\n",
      "Best n: 10\n",
      "Minimum Mean Squared Error: 8.411638441353045e-08\n"
     ]
    }
   ],
   "source": [
    "find_best_n('./weights/weights_of_layer_10.txt')"
   ]
  },
  {
   "cell_type": "code",
   "execution_count": 18,
   "metadata": {},
   "outputs": [
    {
     "name": "stdout",
     "output_type": "stream",
     "text": [
      "n\tMSE\n",
      "---------------\n",
      "1\t0.002425514617553505\n",
      "2\t0.0021969926258237687\n",
      "3\t0.0011917708545835341\n",
      "4\t0.00032794734632089995\n",
      "5\t8.145928107813263e-05\n",
      "6\t2.0473403683456422e-05\n",
      "7\t5.085040530714036e-06\n",
      "8\t1.2692953334774972e-06\n",
      "9\t1.8701559254553317e-06\n",
      "10\t3.261178529408091e-05\n",
      "11\t0.00027129053999000495\n",
      "---------------\n",
      "Best n: 8\n",
      "Minimum Mean Squared Error: 1.2692953334774972e-06\n"
     ]
    }
   ],
   "source": [
    "find_best_n('./weights/weights_of_layer_12.txt')"
   ]
  },
  {
   "cell_type": "code",
   "execution_count": 19,
   "metadata": {},
   "outputs": [
    {
     "name": "stdout",
     "output_type": "stream",
     "text": [
      "n\tMSE\n",
      "---------------\n",
      "1\t0.0009624949462075359\n",
      "2\t0.0009008870686881395\n",
      "3\t0.0006516866981114935\n",
      "4\t0.0003017691399712686\n",
      "5\t8.205634937610792e-05\n",
      "6\t2.0362120965387127e-05\n",
      "7\t5.088835513524584e-06\n",
      "8\t1.272633059255652e-06\n",
      "9\t5.464164404561518e-07\n",
      "10\t8.558680544809203e-06\n",
      "11\t6.799440056182088e-05\n",
      "---------------\n",
      "Best n: 9\n",
      "Minimum Mean Squared Error: 5.464164404561518e-07\n"
     ]
    }
   ],
   "source": [
    "find_best_n('./weights/weights_of_layer_13.txt')"
   ]
  },
  {
   "cell_type": "code",
   "execution_count": 20,
   "metadata": {},
   "outputs": [
    {
     "name": "stdout",
     "output_type": "stream",
     "text": [
      "n\tMSE\n",
      "---------------\n",
      "1\t0.0025577002503792065\n",
      "2\t0.0019207133263006808\n",
      "3\t0.0008198566230755209\n",
      "4\t0.00033850116934955934\n",
      "5\t7.74419627439904e-05\n",
      "6\t1.9918282042367788e-05\n",
      "7\t5.092031212915665e-06\n",
      "8\t1.980196359180939e-06\n",
      "9\t1.0865557886354884e-05\n",
      "10\t0.00011268216748233834\n",
      "11\t0.0005553667094986794\n",
      "---------------\n",
      "Best n: 8\n",
      "Minimum Mean Squared Error: 1.980196359180939e-06\n"
     ]
    }
   ],
   "source": [
    "find_best_n('./weights/weights_of_layer_14.txt')"
   ]
  },
  {
   "cell_type": "code",
   "execution_count": 21,
   "metadata": {},
   "outputs": [
    {
     "name": "stdout",
     "output_type": "stream",
     "text": [
      "n\tMSE\n",
      "---------------\n",
      "1\t0.011383620664460541\n",
      "2\t0.00480531646524179\n",
      "3\t0.001308630102021576\n",
      "4\t0.0003257062014173279\n",
      "5\t8.157408700692749e-05\n",
      "6\t2.034077106225586e-05\n",
      "7\t5.473090035797119e-06\n",
      "8\t0.00022511706752884487\n",
      "9\t0.002255021149842025\n",
      "10\t0.006597164048060731\n",
      "11\t0.01160396718762578\n",
      "---------------\n",
      "Best n: 7\n",
      "Minimum Mean Squared Error: 5.473090035797119e-06\n"
     ]
    }
   ],
   "source": [
    "find_best_n('./weights/weights_of_layer_17.txt')"
   ]
  },
  {
   "cell_type": "code",
   "execution_count": 22,
   "metadata": {},
   "outputs": [
    {
     "name": "stdout",
     "output_type": "stream",
     "text": [
      "n\tMSE\n",
      "---------------\n",
      "1\t0.005111324141336993\n",
      "2\t0.0026285738475335736\n",
      "3\t0.0010200856297184029\n",
      "4\t0.00032787009152395835\n",
      "5\t8.039122116471687e-05\n",
      "6\t2.0183124459989318e-05\n",
      "7\t5.070448031870994e-06\n",
      "8\t2.5077060170431024e-06\n",
      "9\t7.389734662300222e-05\n",
      "10\t0.0007277294571526818\n",
      "11\t0.0020621932117375324\n",
      "---------------\n",
      "Best n: 8\n",
      "Minimum Mean Squared Error: 2.5077060170431024e-06\n"
     ]
    }
   ],
   "source": [
    "find_best_n('./weights/weights_of_layer_20.txt')"
   ]
  }
 ],
 "metadata": {
  "kernelspec": {
   "display_name": "base",
   "language": "python",
   "name": "python3"
  },
  "language_info": {
   "codemirror_mode": {
    "name": "ipython",
    "version": 3
   },
   "file_extension": ".py",
   "mimetype": "text/x-python",
   "name": "python",
   "nbconvert_exporter": "python",
   "pygments_lexer": "ipython3",
   "version": "3.10.12"
  }
 },
 "nbformat": 4,
 "nbformat_minor": 2
}
