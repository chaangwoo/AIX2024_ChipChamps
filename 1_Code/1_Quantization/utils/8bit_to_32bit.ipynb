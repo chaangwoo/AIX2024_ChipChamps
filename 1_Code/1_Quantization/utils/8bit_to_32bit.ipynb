{
 "cells": [
  {
   "cell_type": "code",
   "execution_count": 20,
   "metadata": {},
   "outputs": [],
   "source": [
    "# Conv layer number\n",
    "# choose between 0, 2, 4, 6, 8, 10, 12, 13, 14, 17, 20\n",
    "layer_num = 20"
   ]
  },
  {
   "cell_type": "code",
   "execution_count": 22,
   "metadata": {},
   "outputs": [
    {
     "name": "stdout",
     "output_type": "stream",
     "text": [
      "src:  ./log_feamap/CONV20_input.hex\n",
      "dst:  ./log_feamap/CONV20_input_32b.hex\n"
     ]
    }
   ],
   "source": [
    "# Set the source and the destination file\n",
    "src = './log_feamap/CONV'+format(layer_num, '02d')+'_input.hex'\n",
    "dst = './log_feamap/CONV'+format(layer_num, '02d')+'_input_32b.hex'\n",
    "print(\"src: \", src)\n",
    "print(\"dst: \", dst)\n",
    "\n",
    "# Read the contents of the text file\n",
    "with open(src, 'r') as file:\n",
    "    numbers = file.read().splitlines()\n",
    "\n",
    "# Initialize an empty list to store the concatenated numbers\n",
    "concatenated_numbers = []\n",
    "\n",
    "# Concatenate every three numbers, add leading zeros, and insert newline\n",
    "for i in range(0, len(numbers), 3):\n",
    "    group = ''.join(numbers[i:i+3][::-1])  # Reverse the order\n",
    "    concatenated_number = format(int(group, 16), '08X') + '\\n'\n",
    "    concatenated_numbers.append(concatenated_number)\n",
    "\n",
    "# Write the concatenated numbers into a .hex file\n",
    "with open(dst, 'w') as file:\n",
    "    file.writelines(concatenated_numbers)\n"
   ]
  }
 ],
 "metadata": {
  "kernelspec": {
   "display_name": "Python 3",
   "language": "python",
   "name": "python3"
  },
  "language_info": {
   "codemirror_mode": {
    "name": "ipython",
    "version": 3
   },
   "file_extension": ".py",
   "mimetype": "text/x-python",
   "name": "python",
   "nbconvert_exporter": "python",
   "pygments_lexer": "ipython3",
   "version": "3.10.5"
  }
 },
 "nbformat": 4,
 "nbformat_minor": 2
}
