{
 "cells": [
  {
   "cell_type": "code",
   "execution_count": 6,
   "metadata": {},
   "outputs": [],
   "source": [
    "src = './inout_data_sw/log_feamap/CONV00_input.hex'\n",
    "dst = './inout_data_sw/log_feamap/CONV00_input_32b.hex'"
   ]
  },
  {
   "cell_type": "code",
   "execution_count": 7,
   "metadata": {},
   "outputs": [],
   "source": [
    "# Read the contents of the text file\n",
    "with open(src, 'r') as file:\n",
    "    numbers = file.read().splitlines()\n",
    "\n",
    "# Initialize an empty list to store the concatenated numbers\n",
    "concatenated_numbers = []\n",
    "\n",
    "# Concatenate every three numbers, add leading zeros, and insert newline\n",
    "for i in range(0, len(numbers), 3):\n",
    "    group = ''.join(numbers[i:i+3][::-1])  # Reverse the order\n",
    "    concatenated_number = format(int(group, 16), '08X') + '\\n'\n",
    "    concatenated_numbers.append(concatenated_number)\n",
    "\n",
    "# Write the concatenated numbers into a .hex file\n",
    "with open(dst, 'w') as file:\n",
    "    file.writelines(concatenated_numbers)\n"
   ]
  }
 ],
 "metadata": {
  "kernelspec": {
   "display_name": "Python 3",
   "language": "python",
   "name": "python3"
  },
  "language_info": {
   "codemirror_mode": {
    "name": "ipython",
    "version": 3
   },
   "file_extension": ".py",
   "mimetype": "text/x-python",
   "name": "python",
   "nbconvert_exporter": "python",
   "pygments_lexer": "ipython3",
   "version": "3.10.5"
  }
 },
 "nbformat": 4,
 "nbformat_minor": 2
}
