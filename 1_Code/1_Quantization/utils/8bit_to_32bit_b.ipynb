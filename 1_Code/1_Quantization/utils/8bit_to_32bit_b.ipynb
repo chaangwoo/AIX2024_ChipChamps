{
 "cells": [
  {
   "cell_type": "code",
   "execution_count": 23,
   "metadata": {},
   "outputs": [],
   "source": [
    "layer = 20"
   ]
  },
  {
   "cell_type": "code",
   "execution_count": 24,
   "metadata": {},
   "outputs": [],
   "source": [
    "src = './log_param/CONV'+format(layer, '02d')+'_param_biases.hex'\n",
    "dst = './log_param/CONV'+format(layer, '02d')+'_param_biases_32b.hex'\n",
    "def merge_lines(file_path):\n",
    "    merged_lines = []\n",
    "    with open(file_path, 'r') as file:\n",
    "        lines = file.readlines()\n",
    "        for i in range(0, len(lines), 2):\n",
    "            merged_line = ''\n",
    "            for j in range(2):\n",
    "                if i + j < len(lines):\n",
    "                    hex_number = lines[i + j].strip()\n",
    "                    rightmost_two = hex_number[-4:]  # Fetching rightmost 4 digits\n",
    "                    merged_line += rightmost_two\n",
    "            merged_lines.append(merged_line)\n",
    "    return merged_lines\n",
    "\n",
    "file_path = src  # Change this to your file's path\n",
    "result = merge_lines(file_path)\n",
    "\n",
    "def reverse_order(line):\n",
    "    # Split the line into 4-digit chunks\n",
    "    chunks = [line[i:i+4] for i in range(0, len(line), 4)]\n",
    "    # Reverse the order of chunks and join them back\n",
    "    reversed_line = ''.join(chunks[::-1])\n",
    "    return reversed_line\n",
    "\n",
    "def save_to_file(file_path, lines):\n",
    "    with open(file_path, 'w') as file:\n",
    "        for line in lines:\n",
    "            file.write(line + '\\n')\n",
    "\n",
    "\n",
    "# Reverse order for each line in result\n",
    "reversed_result = [reverse_order(line) for line in result]\n",
    "\n",
    "# Print the reversed lines\n",
    "# for line in reversed_result:\n",
    "#     print(line)\n",
    "\n",
    "save_to_file(dst, reversed_result)"
   ]
  }
 ],
 "metadata": {
  "kernelspec": {
   "display_name": "Python 3",
   "language": "python",
   "name": "python3"
  },
  "language_info": {
   "codemirror_mode": {
    "name": "ipython",
    "version": 3
   },
   "file_extension": ".py",
   "mimetype": "text/x-python",
   "name": "python",
   "nbconvert_exporter": "python",
   "pygments_lexer": "ipython3",
   "version": "3.10.5"
  }
 },
 "nbformat": 4,
 "nbformat_minor": 2
}
